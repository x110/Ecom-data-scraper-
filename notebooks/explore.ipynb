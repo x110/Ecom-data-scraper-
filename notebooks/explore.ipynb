{
 "cells": [
  {
   "cell_type": "code",
   "execution_count": 2,
   "metadata": {},
   "outputs": [],
   "source": [
    "BASE_URL = \"https://www.skinbetter.com/\"\n",
    "PRODUCT_URL = \"https://www.skinbetter.com/shop-skincare/product-category/anti-aging/alpharet-overnight-cream-M001.html\""
   ]
  },
  {
   "cell_type": "code",
   "execution_count": 3,
   "metadata": {},
   "outputs": [],
   "source": [
    "from urllib.request import urlopen\n",
    "from bs4 import BeautifulSoup"
   ]
  },
  {
   "cell_type": "code",
   "execution_count": 4,
   "metadata": {},
   "outputs": [],
   "source": [
    "from selenium import webdriver\n",
    "from selenium.webdriver.support.ui import WebDriverWait\n",
    "from selenium.webdriver.support import expected_conditions as EC\n",
    "from selenium.webdriver.common.by import By\n",
    "\n",
    "\n",
    "\n",
    "options = webdriver.ChromeOptions()\n",
    "#options.add_argument(\"Mozilla/5.0 (X11; Linux x86_64) AppleWebKit/537.36 (KHTML, like Gecko) Chrome/103.0.0.0 Safari/537.36\")\n",
    "driver = webdriver.Chrome(options=options)\n",
    "\n",
    "wait = WebDriverWait(driver, 10)  # Adjust the timeout as needed\n",
    "\n",
    "driver.get(PRODUCT_URL)\n",
    "page_source = driver.page_source\n",
    "\n",
    "soup = BeautifulSoup(page_source, 'html.parser')"
   ]
  },
  {
   "cell_type": "code",
   "execution_count": 30,
   "metadata": {},
   "outputs": [],
   "source": [
    "driver.quit()"
   ]
  },
  {
   "cell_type": "code",
   "execution_count": 5,
   "metadata": {},
   "outputs": [],
   "source": [
    "data={}\n",
    "\n",
    "def extract_image_source(soup):\n",
    "    picture_element = soup.find('picture')\n",
    "\n",
    "    if not picture_element:\n",
    "        raise ValueError(\"Picture element not found.\")\n",
    "\n",
    "    img_tag = picture_element.find('img')\n",
    "\n",
    "    if not img_tag:\n",
    "        raise ValueError(\"Img tag not found within the picture element.\")\n",
    "\n",
    "    src_attribute = img_tag.get('src', '')\n",
    "    return src_attribute\n",
    "\n",
    "# Example usage:\n",
    "try:\n",
    "    data['Image URL'] = extract_image_source(soup)\n",
    "except ValueError as e:\n",
    "    print(f\"Error: {e}\")"
   ]
  },
  {
   "cell_type": "code",
   "execution_count": 6,
   "metadata": {},
   "outputs": [
    {
     "data": {
      "text/plain": [
       "{'Image URL': 'https://www.skinbetter.com/dw/image/v2/AAFM_PRD/on/demandware.static/-/Sites-acd-sbs-master-catalog/default/dw511192db/pdpimages/M001/SB5100_AlphaRetOvernightCream30ML.default.jpg?sw=465&sh=465&sm=cut&sfrm=jpg&q=70'}"
      ]
     },
     "execution_count": 6,
     "metadata": {},
     "output_type": "execute_result"
    }
   ],
   "source": [
    "data"
   ]
  }
 ],
 "metadata": {
  "interpreter": {
   "hash": "644a3925117dc0d26d696fb0d18a8c9ec658cebb6e40ea3574df4bbfa5ce8156"
  },
  "kernelspec": {
   "display_name": "Python 3.8.10 ('venv': venv)",
   "language": "python",
   "name": "python3"
  },
  "language_info": {
   "codemirror_mode": {
    "name": "ipython",
    "version": 3
   },
   "file_extension": ".py",
   "mimetype": "text/x-python",
   "name": "python",
   "nbconvert_exporter": "python",
   "pygments_lexer": "ipython3",
   "version": "3.8.10"
  },
  "orig_nbformat": 4
 },
 "nbformat": 4,
 "nbformat_minor": 2
}
